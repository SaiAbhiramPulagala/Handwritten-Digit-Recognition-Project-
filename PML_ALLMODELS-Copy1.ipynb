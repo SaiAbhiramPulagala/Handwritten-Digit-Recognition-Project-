{
 "cells": [
  {
   "cell_type": "markdown",
   "metadata": {},
   "source": [
    "CNN WITHOUT INBUILT"
   ]
  },
  {
   "cell_type": "code",
   "execution_count": 37,
   "metadata": {},
   "outputs": [],
   "source": [
    "import numpy as np\n",
    "import pandas as pd\n",
    "from matplotlib import pyplot as plt"
   ]
  },
  {
   "cell_type": "code",
   "execution_count": 38,
   "metadata": {},
   "outputs": [
    {
     "name": "stdout",
     "output_type": "stream",
     "text": [
      "Requirement already satisfied: mnist in c:\\users\\aishn\\appdata\\local\\packages\\pythonsoftwarefoundation.python.3.9_qbz5n2kfra8p0\\localcache\\local-packages\\python39\\site-packages (0.2.2)\n",
      "Requirement already satisfied: numpy in c:\\users\\aishn\\appdata\\local\\packages\\pythonsoftwarefoundation.python.3.9_qbz5n2kfra8p0\\localcache\\local-packages\\python39\\site-packages (from mnist) (1.21.4)\n",
      "Note: you may need to restart the kernel to use updated packages.\n"
     ]
    }
   ],
   "source": [
    "pip install mnist"
   ]
  },
  {
   "cell_type": "code",
   "execution_count": 39,
   "metadata": {},
   "outputs": [
    {
     "data": {
      "text/html": [
       "<div>\n",
       "<style scoped>\n",
       "    .dataframe tbody tr th:only-of-type {\n",
       "        vertical-align: middle;\n",
       "    }\n",
       "\n",
       "    .dataframe tbody tr th {\n",
       "        vertical-align: top;\n",
       "    }\n",
       "\n",
       "    .dataframe thead th {\n",
       "        text-align: right;\n",
       "    }\n",
       "</style>\n",
       "<table border=\"1\" class=\"dataframe\">\n",
       "  <thead>\n",
       "    <tr style=\"text-align: right;\">\n",
       "      <th></th>\n",
       "      <th>7</th>\n",
       "      <th>0</th>\n",
       "      <th>0.1</th>\n",
       "      <th>0.2</th>\n",
       "      <th>0.3</th>\n",
       "      <th>0.4</th>\n",
       "      <th>0.5</th>\n",
       "      <th>0.6</th>\n",
       "      <th>0.7</th>\n",
       "      <th>0.8</th>\n",
       "      <th>...</th>\n",
       "      <th>0.658</th>\n",
       "      <th>0.659</th>\n",
       "      <th>0.660</th>\n",
       "      <th>0.661</th>\n",
       "      <th>0.662</th>\n",
       "      <th>0.663</th>\n",
       "      <th>0.664</th>\n",
       "      <th>0.665</th>\n",
       "      <th>0.666</th>\n",
       "      <th>0.667</th>\n",
       "    </tr>\n",
       "  </thead>\n",
       "  <tbody>\n",
       "    <tr>\n",
       "      <th>0</th>\n",
       "      <td>2</td>\n",
       "      <td>0</td>\n",
       "      <td>0</td>\n",
       "      <td>0</td>\n",
       "      <td>0</td>\n",
       "      <td>0</td>\n",
       "      <td>0</td>\n",
       "      <td>0</td>\n",
       "      <td>0</td>\n",
       "      <td>0</td>\n",
       "      <td>...</td>\n",
       "      <td>0</td>\n",
       "      <td>0</td>\n",
       "      <td>0</td>\n",
       "      <td>0</td>\n",
       "      <td>0</td>\n",
       "      <td>0</td>\n",
       "      <td>0</td>\n",
       "      <td>0</td>\n",
       "      <td>0</td>\n",
       "      <td>0</td>\n",
       "    </tr>\n",
       "    <tr>\n",
       "      <th>1</th>\n",
       "      <td>1</td>\n",
       "      <td>0</td>\n",
       "      <td>0</td>\n",
       "      <td>0</td>\n",
       "      <td>0</td>\n",
       "      <td>0</td>\n",
       "      <td>0</td>\n",
       "      <td>0</td>\n",
       "      <td>0</td>\n",
       "      <td>0</td>\n",
       "      <td>...</td>\n",
       "      <td>0</td>\n",
       "      <td>0</td>\n",
       "      <td>0</td>\n",
       "      <td>0</td>\n",
       "      <td>0</td>\n",
       "      <td>0</td>\n",
       "      <td>0</td>\n",
       "      <td>0</td>\n",
       "      <td>0</td>\n",
       "      <td>0</td>\n",
       "    </tr>\n",
       "    <tr>\n",
       "      <th>2</th>\n",
       "      <td>0</td>\n",
       "      <td>0</td>\n",
       "      <td>0</td>\n",
       "      <td>0</td>\n",
       "      <td>0</td>\n",
       "      <td>0</td>\n",
       "      <td>0</td>\n",
       "      <td>0</td>\n",
       "      <td>0</td>\n",
       "      <td>0</td>\n",
       "      <td>...</td>\n",
       "      <td>0</td>\n",
       "      <td>0</td>\n",
       "      <td>0</td>\n",
       "      <td>0</td>\n",
       "      <td>0</td>\n",
       "      <td>0</td>\n",
       "      <td>0</td>\n",
       "      <td>0</td>\n",
       "      <td>0</td>\n",
       "      <td>0</td>\n",
       "    </tr>\n",
       "    <tr>\n",
       "      <th>3</th>\n",
       "      <td>4</td>\n",
       "      <td>0</td>\n",
       "      <td>0</td>\n",
       "      <td>0</td>\n",
       "      <td>0</td>\n",
       "      <td>0</td>\n",
       "      <td>0</td>\n",
       "      <td>0</td>\n",
       "      <td>0</td>\n",
       "      <td>0</td>\n",
       "      <td>...</td>\n",
       "      <td>0</td>\n",
       "      <td>0</td>\n",
       "      <td>0</td>\n",
       "      <td>0</td>\n",
       "      <td>0</td>\n",
       "      <td>0</td>\n",
       "      <td>0</td>\n",
       "      <td>0</td>\n",
       "      <td>0</td>\n",
       "      <td>0</td>\n",
       "    </tr>\n",
       "    <tr>\n",
       "      <th>4</th>\n",
       "      <td>1</td>\n",
       "      <td>0</td>\n",
       "      <td>0</td>\n",
       "      <td>0</td>\n",
       "      <td>0</td>\n",
       "      <td>0</td>\n",
       "      <td>0</td>\n",
       "      <td>0</td>\n",
       "      <td>0</td>\n",
       "      <td>0</td>\n",
       "      <td>...</td>\n",
       "      <td>0</td>\n",
       "      <td>0</td>\n",
       "      <td>0</td>\n",
       "      <td>0</td>\n",
       "      <td>0</td>\n",
       "      <td>0</td>\n",
       "      <td>0</td>\n",
       "      <td>0</td>\n",
       "      <td>0</td>\n",
       "      <td>0</td>\n",
       "    </tr>\n",
       "  </tbody>\n",
       "</table>\n",
       "<p>5 rows × 785 columns</p>\n",
       "</div>"
      ],
      "text/plain": [
       "   7  0  0.1  0.2  0.3  0.4  0.5  0.6  0.7  0.8  ...  0.658  0.659  0.660  \\\n",
       "0  2  0    0    0    0    0    0    0    0    0  ...      0      0      0   \n",
       "1  1  0    0    0    0    0    0    0    0    0  ...      0      0      0   \n",
       "2  0  0    0    0    0    0    0    0    0    0  ...      0      0      0   \n",
       "3  4  0    0    0    0    0    0    0    0    0  ...      0      0      0   \n",
       "4  1  0    0    0    0    0    0    0    0    0  ...      0      0      0   \n",
       "\n",
       "   0.661  0.662  0.663  0.664  0.665  0.666  0.667  \n",
       "0      0      0      0      0      0      0      0  \n",
       "1      0      0      0      0      0      0      0  \n",
       "2      0      0      0      0      0      0      0  \n",
       "3      0      0      0      0      0      0      0  \n",
       "4      0      0      0      0      0      0      0  \n",
       "\n",
       "[5 rows x 785 columns]"
      ]
     },
     "execution_count": 39,
     "metadata": {},
     "output_type": "execute_result"
    }
   ],
   "source": [
    "data = pd.read_csv('mnist_test.csv')\n",
    "data.head()"
   ]
  },
  {
   "cell_type": "code",
   "execution_count": 40,
   "metadata": {},
   "outputs": [],
   "source": [
    "data = np.array(data)"
   ]
  },
  {
   "cell_type": "code",
   "execution_count": 41,
   "metadata": {},
   "outputs": [],
   "source": [
    "m, n = data.shape\n",
    "np.random.shuffle(data)"
   ]
  },
  {
   "cell_type": "code",
   "execution_count": 42,
   "metadata": {},
   "outputs": [],
   "source": [
    "data_dev = data[0:1000].T\n",
    "X_dev = data_dev[1:n]\n",
    "X_dev = X_dev / 255.\n",
    "\n",
    "Y_dev = data_dev[0]"
   ]
  },
  {
   "cell_type": "code",
   "execution_count": 43,
   "metadata": {},
   "outputs": [],
   "source": [
    "data_train = data[1000:m].T\n",
    "X_train = data_train[1:n]\n",
    "X_train = X_train / 255.\n",
    "_,m_train = X_train.shape\n",
    "\n",
    "Y_train = data_train[0]"
   ]
  },
  {
   "cell_type": "code",
   "execution_count": 44,
   "metadata": {},
   "outputs": [],
   "source": [
    "def init_params():\n",
    "    W1 = np.random.rand(10, 784) - 0.5\n",
    "    b1 = np.random.rand(10, 1) - 0.5\n",
    "    \n",
    "    W2 = np.random.rand(10, 10) - 0.5\n",
    "    b2 = np.random.rand(10, 1) - 0.5\n",
    "    \n",
    "    return W1, b1, W2, b2"
   ]
  },
  {
   "cell_type": "code",
   "execution_count": null,
   "metadata": {},
   "outputs": [],
   "source": [
    "#This code defines a function called init_params which initializes parameters for a neural network. \n",
    "#It generates random values for two weight matrices, W1 and W2 with shape (10, 784) and (10, 10) respectively, \n",
    "#and two bias vectors, b1 and b2 with shape (10, 1). \n",
    "#The values are generated randomly using np.random.rand and are centered around zero by subtracting 0.5. \n",
    "#The function returns the initialized weight matrices and bias vectors."
   ]
  },
  {
   "cell_type": "code",
   "execution_count": 45,
   "metadata": {},
   "outputs": [],
   "source": [
    "def ReLU(Z):\n",
    "    return np.maximum(Z, 0)"
   ]
  },
  {
   "cell_type": "code",
   "execution_count": null,
   "metadata": {},
   "outputs": [],
   "source": [
    "#This code defines a function called ReLU which implements the Rectified Linear Unit activation function. \n",
    "#The function takes a scalar, vector or matrix Z as input and returns np.maximum(Z, 0) \n",
    "#which means it returns the element-wise maximum of Z and 0. \n",
    "#In other words, for each element in Z, if it is greater than 0, \n",
    "#the corresponding element in the output will be the same as Z, otherwise it will be 0. \n",
    "#The ReLU activation function is commonly used in deep learning models."
   ]
  },
  {
   "cell_type": "code",
   "execution_count": 46,
   "metadata": {},
   "outputs": [],
   "source": [
    "def ReLU_deriv(Z):\n",
    "    return Z > 0"
   ]
  },
  {
   "cell_type": "code",
   "execution_count": null,
   "metadata": {},
   "outputs": [],
   "source": [
    "#This code defines a function called \"ReLU_deriv\" which calculates the derivative of the ReLU activation function. \n",
    "#It takes in a matrix \"Z\" as input, and returns a binary matrix with the same shape as \"Z\". \n",
    "#Each element of the binary matrix is 1 if the corresponding element in \"Z\" is greater than 0, and 0 otherwise. \n",
    "#This implementation of the derivative of the ReLU function is based on the piecewise linear nature of the ReLU function."
   ]
  },
  {
   "cell_type": "code",
   "execution_count": 47,
   "metadata": {},
   "outputs": [],
   "source": [
    "def softmax(Z):\n",
    "    A = np.exp(Z) / sum(np.exp(Z))\n",
    "    return A"
   ]
  },
  {
   "cell_type": "code",
   "execution_count": null,
   "metadata": {},
   "outputs": [],
   "source": [
    "#The code implements the softmax function, which is a commonly used activation \n",
    "#function in deep learning and machine learning. \n",
    "#It takes a 1D array Z as input and returns a probability distribution over the elements in Z.\n",
    "\n",
    "#The calculation of the softmax function is as follows:\n",
    "\n",
    "#The elements of Z are exponentiated with the np.exp function.\n",
    "#The sum of the exponentiated elements is calculated with sum(np.exp(Z)).\n",
    "#The resulting array A is the elementwise division of the exponentiated Z \n",
    "#and the sum of the exponentiated elements.\n",
    "#The result is a probability distribution, where each element of A represents \n",
    "#the probability of that element in Z being the maximum among all the elements in Z."
   ]
  },
  {
   "cell_type": "code",
   "execution_count": 48,
   "metadata": {},
   "outputs": [],
   "source": [
    "def forward_prop(W1, b1, W2, b2, X):\n",
    "    Z1 = W1.dot(X) + b1\n",
    "    A1 = ReLU(Z1)\n",
    "    \n",
    "    Z2 = W2.dot(A1) + b2\n",
    "    A2 = softmax(Z2)\n",
    "    \n",
    "    return Z1, A1, Z2, A2"
   ]
  },
  {
   "cell_type": "code",
   "execution_count": null,
   "metadata": {},
   "outputs": [],
   "source": [
    "#This code is for a two-layer neural network, also known as a multi-layer perceptron (MLP). \n",
    "#The network takes in inputs X and uses weights W1 and W2 and biases b1 and b2 to make predictions.\n",
    "\n",
    "#The code first computes Z1 by taking the dot product of the inputs and W1 and adding b1. \n",
    "#The output of Z1 is then passed through the ReLU activation function to get A1.\n",
    "\n",
    "#Next, the code computes Z2 by taking the dot product of A1 and W2 and adding b2. \n",
    "#The output of Z2 is then passed through the softmax activation function to get A2, \n",
    "#which represents the final predicted probabilities for each class.\n",
    "\n",
    "#The function returns the intermediate values Z1, A1, Z2, and A2, \n",
    "#which can be used to compute the cost and perform backpropagation to update the weights and biases."
   ]
  },
  {
   "cell_type": "code",
   "execution_count": 49,
   "metadata": {},
   "outputs": [],
   "source": [
    "def one_hot(Y):\n",
    "    one_hot_Y = np.zeros((Y.size, Y.max() + 1))\n",
    "    one_hot_Y[np.arange(Y.size), Y] = 1\n",
    "    one_hot_Y = one_hot_Y.T\n",
    "    \n",
    "    return one_hot_Y"
   ]
  },
  {
   "cell_type": "code",
   "execution_count": 50,
   "metadata": {},
   "outputs": [],
   "source": [
    "def backward_prop(Z1, A1, Z2, A2, W1, W2, X, Y):\n",
    "    one_hot_Y = one_hot(Y)\n",
    "    dZ2 = A2 - one_hot_Y\n",
    "    dW2 = 1 / m * dZ2.dot(A1.T)\n",
    "    db2 = 1 / m * np.sum(dZ2)\n",
    "    dZ1 = W2.T.dot(dZ2) * ReLU_deriv(Z1)\n",
    "    dW1 = 1 / m * dZ1.dot(X.T)\n",
    "    db1 = 1 / m * np.sum(dZ1)\n",
    "    \n",
    "    return dW1, db1, dW2, db2"
   ]
  },
  {
   "cell_type": "code",
   "execution_count": 51,
   "metadata": {},
   "outputs": [],
   "source": [
    "def update_params(W1, b1, W2, b2, dW1, db1, dW2, db2, alpha):\n",
    "    W1 = W1 - alpha * dW1\n",
    "    b1 = b1 - alpha * db1    \n",
    "    W2 = W2 - alpha * dW2  \n",
    "    b2 = b2 - alpha * db2    \n",
    "    \n",
    "    return W1, b1, W2, b2"
   ]
  },
  {
   "cell_type": "code",
   "execution_count": 52,
   "metadata": {},
   "outputs": [],
   "source": [
    "def get_predictions(A2):\n",
    "    return np.argmax(A2, 0)"
   ]
  },
  {
   "cell_type": "code",
   "execution_count": 53,
   "metadata": {},
   "outputs": [],
   "source": [
    "def get_accuracy(predictions, Y):\n",
    "    print(predictions, Y)\n",
    "    return np.sum(predictions == Y) / Y.size"
   ]
  },
  {
   "cell_type": "code",
   "execution_count": 54,
   "metadata": {},
   "outputs": [],
   "source": [
    "def gradient_descent(X, Y, alpha, iterations):\n",
    "    W1, b1, W2, b2 = init_params()\n",
    "    for i in range(iterations):\n",
    "        Z1, A1, Z2, A2 = forward_prop(W1, b1, W2, b2, X)\n",
    "        dW1, db1, dW2, db2 = backward_prop(Z1, A1, Z2, A2, W1, W2, X, Y)\n",
    "        W1, b1, W2, b2 = update_params(W1, b1, W2, b2, dW1, db1, dW2, db2, alpha)\n",
    "        if i % 10 == 0:\n",
    "            print(\"Iteration: \", i)\n",
    "            predictions = get_predictions(A2)\n",
    "            print(get_accuracy(predictions, Y))\n",
    "    return W1, b1, W2, b2\n"
   ]
  },
  {
   "cell_type": "code",
   "execution_count": null,
   "metadata": {},
   "outputs": [],
   "source": [
    "#Gradient descent is used in machine learning to optimize the parameters of a model. \n",
    "#The goal is to find the values of the parameters that result in the best prediction \n",
    "#for a given data set. The algorithm does this by calculating the gradient, \n",
    "#or the rate of change, of the cost function with respect to the parameters. \n",
    "#It then updates the parameters in the direction that reduces the cost. \n",
    "#This process is repeated until the parameters converge to the optimal values. \n",
    "#In simple terms, gradient descent helps a machine learning model \n",
    "#find the best parameters for making accurate predictions."
   ]
  },
  {
   "cell_type": "code",
   "execution_count": 55,
   "metadata": {},
   "outputs": [
    {
     "name": "stdout",
     "output_type": "stream",
     "text": [
      "Iteration:  0\n",
      "[6 6 9 ... 8 6 6] [8 9 5 ... 2 4 6]\n",
      "0.10767863095899545\n",
      "Iteration:  10\n",
      "[1 8 1 ... 0 6 6] [8 9 5 ... 2 4 6]\n",
      "0.15990665629514392\n",
      "Iteration:  20\n",
      "[2 8 1 ... 0 6 6] [8 9 5 ... 2 4 6]\n",
      "0.2085787309701078\n",
      "Iteration:  30\n",
      "[2 6 1 ... 2 6 6] [8 9 5 ... 2 4 6]\n",
      "0.2364707189687743\n",
      "Iteration:  40\n",
      "[2 6 1 ... 2 6 6] [8 9 5 ... 2 4 6]\n",
      "0.265585065007223\n",
      "Iteration:  50\n",
      "[2 8 1 ... 3 6 6] [8 9 5 ... 2 4 6]\n",
      "0.3071452383598178\n",
      "Iteration:  60\n",
      "[6 8 1 ... 3 6 6] [8 9 5 ... 2 4 6]\n",
      "0.37193021446827423\n",
      "Iteration:  70\n",
      "[6 5 1 ... 2 6 6] [8 9 5 ... 2 4 6]\n",
      "0.42938104233803753\n",
      "Iteration:  80\n",
      "[6 5 1 ... 2 5 6] [8 9 5 ... 2 4 6]\n",
      "0.48372041337926436\n",
      "Iteration:  90\n",
      "[6 4 1 ... 2 9 6] [8 9 5 ... 2 4 6]\n",
      "0.536615179464385\n",
      "Iteration:  100\n",
      "[6 4 1 ... 2 9 6] [8 9 5 ... 2 4 6]\n",
      "0.579619957773086\n",
      "Iteration:  110\n",
      "[6 4 1 ... 2 9 6] [8 9 5 ... 2 4 6]\n",
      "0.6122902544727192\n",
      "Iteration:  120\n",
      "[6 4 3 ... 2 9 6] [8 9 5 ... 2 4 6]\n",
      "0.6405156128458718\n",
      "Iteration:  130\n",
      "[6 9 3 ... 2 9 6] [8 9 5 ... 2 4 6]\n",
      "0.6641849094343816\n",
      "Iteration:  140\n",
      "[6 9 3 ... 2 9 6] [8 9 5 ... 2 4 6]\n",
      "0.6834092676964107\n",
      "Iteration:  150\n",
      "[6 9 3 ... 2 9 6] [8 9 5 ... 2 4 6]\n",
      "0.6966329592176909\n",
      "Iteration:  160\n",
      "[6 9 3 ... 2 9 6] [8 9 5 ... 2 4 6]\n",
      "0.7086342926991888\n",
      "Iteration:  170\n",
      "[6 9 3 ... 2 9 6] [8 9 5 ... 2 4 6]\n",
      "0.7181909101011223\n",
      "Iteration:  180\n",
      "[6 9 3 ... 2 9 6] [8 9 5 ... 2 4 6]\n",
      "0.7271919102122458\n",
      "Iteration:  190\n",
      "[6 9 3 ... 2 9 6] [8 9 5 ... 2 4 6]\n",
      "0.7358595399488832\n",
      "Iteration:  200\n",
      "[6 9 3 ... 2 9 6] [8 9 5 ... 2 4 6]\n",
      "0.7450827869763307\n",
      "Iteration:  210\n",
      "[6 9 3 ... 2 9 6] [8 9 5 ... 2 4 6]\n",
      "0.752861429047672\n",
      "Iteration:  220\n",
      "[6 9 3 ... 2 9 6] [8 9 5 ... 2 4 6]\n",
      "0.7608623180353372\n",
      "Iteration:  230\n",
      "[6 9 3 ... 2 9 6] [8 9 5 ... 2 4 6]\n",
      "0.7683075897321925\n",
      "Iteration:  240\n",
      "[6 9 3 ... 2 9 6] [8 9 5 ... 2 4 6]\n",
      "0.7749749972219135\n",
      "Iteration:  250\n",
      "[6 9 3 ... 2 9 6] [8 9 5 ... 2 4 6]\n",
      "0.7818646516279587\n",
      "Iteration:  260\n",
      "[6 9 3 ... 2 9 6] [8 9 5 ... 2 4 6]\n",
      "0.7863095899544393\n",
      "Iteration:  270\n",
      "[6 9 3 ... 2 9 6] [8 9 5 ... 2 4 6]\n",
      "0.7917546394043783\n",
      "Iteration:  280\n",
      "[6 9 3 ... 2 4 6] [8 9 5 ... 2 4 6]\n",
      "0.7975330592288032\n",
      "Iteration:  290\n",
      "[6 9 3 ... 2 4 6] [8 9 5 ... 2 4 6]\n",
      "0.8016446271807979\n",
      "Iteration:  300\n",
      "[6 9 3 ... 2 4 6] [8 9 5 ... 2 4 6]\n",
      "0.8067563062562507\n",
      "Iteration:  310\n",
      "[6 9 3 ... 2 4 6] [8 9 5 ... 2 4 6]\n",
      "0.8104233803755972\n",
      "Iteration:  320\n",
      "[6 9 3 ... 2 4 6] [8 9 5 ... 2 4 6]\n",
      "0.8142015779531059\n",
      "Iteration:  330\n",
      "[6 9 3 ... 2 4 6] [8 9 5 ... 2 4 6]\n",
      "0.8185353928214246\n",
      "Iteration:  340\n",
      "[6 9 3 ... 2 4 6] [8 9 5 ... 2 4 6]\n",
      "0.8220913434826091\n",
      "Iteration:  350\n",
      "[6 9 3 ... 2 4 6] [8 9 5 ... 2 4 6]\n",
      "0.8263140348927659\n",
      "Iteration:  360\n",
      "[6 9 3 ... 2 4 6] [8 9 5 ... 2 4 6]\n",
      "0.8307589732192466\n",
      "Iteration:  370\n",
      "[6 9 3 ... 2 4 6] [8 9 5 ... 2 4 6]\n",
      "0.833537059673297\n",
      "Iteration:  380\n",
      "[6 9 3 ... 2 4 6] [8 9 5 ... 2 4 6]\n",
      "0.8362040226691855\n",
      "Iteration:  390\n",
      "[6 9 3 ... 2 4 6] [8 9 5 ... 2 4 6]\n",
      "0.8386487387487499\n",
      "Iteration:  400\n",
      "[6 9 3 ... 2 4 6] [8 9 5 ... 2 4 6]\n",
      "0.8414268252028003\n",
      "Iteration:  410\n",
      "[6 9 3 ... 2 4 6] [8 9 5 ... 2 4 6]\n",
      "0.8434270474497166\n",
      "Iteration:  420\n",
      "[6 9 3 ... 2 4 6] [8 9 5 ... 2 4 6]\n",
      "0.845538393154795\n",
      "Iteration:  430\n",
      "[6 9 3 ... 2 4 6] [8 9 5 ... 2 4 6]\n",
      "0.8473163684853873\n",
      "Iteration:  440\n",
      "[6 9 3 ... 2 4 6] [8 9 5 ... 2 4 6]\n",
      "0.8485387265251695\n",
      "Iteration:  450\n",
      "[6 9 3 ... 2 4 6] [8 9 5 ... 2 4 6]\n",
      "0.8514279364373819\n",
      "Iteration:  460\n",
      "[6 9 3 ... 2 4 6] [8 9 5 ... 2 4 6]\n",
      "0.8525391710190021\n",
      "Iteration:  470\n",
      "[6 9 3 ... 2 4 6] [8 9 5 ... 2 4 6]\n",
      "0.8546505167240804\n",
      "Iteration:  480\n",
      "[6 9 3 ... 2 4 6] [8 9 5 ... 2 4 6]\n",
      "0.8574286031781309\n",
      "Iteration:  490\n",
      "[6 9 3 ... 2 4 6] [8 9 5 ... 2 4 6]\n",
      "0.8597621957995333\n"
     ]
    }
   ],
   "source": [
    "W1, b1, W2, b2 = gradient_descent(X_train, Y_train, 0.10, 500)"
   ]
  },
  {
   "cell_type": "code",
   "execution_count": 56,
   "metadata": {},
   "outputs": [],
   "source": [
    "def make_predictions(X, W1, b1, W2, b2):\n",
    "    _, _, _, A2 = forward_prop(W1, b1, W2, b2, X)\n",
    "    predictions = get_predictions(A2)\n",
    "    \n",
    "    return predictions\n"
   ]
  },
  {
   "cell_type": "code",
   "execution_count": 57,
   "metadata": {},
   "outputs": [],
   "source": [
    "def test_prediction(index, W1, b1, W2, b2):\n",
    "    current_image = X_train[:, index, None]\n",
    "    prediction = make_predictions(X_train[:, index, None], W1, b1, W2, b2)\n",
    "    label = Y_train[index]\n",
    "    print(\"Prediction: \", prediction)\n",
    "    print(\"Label: \", label)\n",
    "    \n",
    "    current_image = current_image.reshape((28, 28)) * 255\n",
    "    plt.gray()\n",
    "    plt.imshow(current_image, interpolation='nearest')\n",
    "    plt.show()"
   ]
  },
  {
   "cell_type": "code",
   "execution_count": 58,
   "metadata": {},
   "outputs": [
    {
     "name": "stdout",
     "output_type": "stream",
     "text": [
      "Prediction:  [6]\n",
      "Label:  8\n"
     ]
    },
    {
     "data": {
      "image/png": "[encoded data removed]",
      "text/plain": [
       "<Figure size 640x480 with 1 Axes>"
      ]
     },
     "metadata": {},
     "output_type": "display_data"
    }
   ],
   "source": [
    "test_prediction(0, W1, b1, W2, b2)"
   ]
  },
  {
   "cell_type": "code",
   "execution_count": 59,
   "metadata": {},
   "outputs": [
    {
     "name": "stdout",
     "output_type": "stream",
     "text": [
      "Prediction:  [9]\n",
      "Label:  9\n"
     ]
    },
    {
     "data": {
      "image/png": "[encoded data removed]",
      "text/plain": [
       "<Figure size 640x480 with 1 Axes>"
      ]
     },
     "metadata": {},
     "output_type": "display_data"
    }
   ],
   "source": [
    "test_prediction(1, W1, b1, W2, b2)"
   ]
  },
  {
   "cell_type": "code",
   "execution_count": null,
   "metadata": {},
   "outputs": [],
   "source": [
    "#The code is using a function called \"test_prediction\" to make a prediction for a single instance. \n",
    "#The function takes 5 arguments:\n",
    "\n",
    "#A single instance of X represented by the integer \"1\".\n",
    "#The values for the first set of weights, W1.\n",
    "#The bias term for the first layer, b1.\n",
    "#The values for the second set of weights, W2.\n",
    "#The bias term for the second layer, b2.\n",
    "#The function computes the forward propagation of the neural network to make a \n",
    "#prediction for the given instance. It first calculates the weighted sum of \n",
    "#the inputs and the bias term for the first layer, Z1. Then, it applies an \n",
    "#activation function (e.g. sigmoid) to get the activation values, A1, of the first layer. \n",
    "#The same process is repeated for the second layer. Finally, the function returns \n",
    "#the predicted value for the given instance."
   ]
  },
  {
   "cell_type": "code",
   "execution_count": 60,
   "metadata": {},
   "outputs": [
    {
     "name": "stdout",
     "output_type": "stream",
     "text": [
      "Prediction:  [3]\n",
      "Label:  5\n"
     ]
    },
    {
     "data": {
      "image/png": "[encoded data removed]",
      "text/plain": [
       "<Figure size 640x480 with 1 Axes>"
      ]
     },
     "metadata": {},
     "output_type": "display_data"
    }
   ],
   "source": [
    "test_prediction(2, W1, b1, W2, b2)"
   ]
  },
  {
   "cell_type": "code",
   "execution_count": 61,
   "metadata": {},
   "outputs": [
    {
     "name": "stdout",
     "output_type": "stream",
     "text": [
      "Prediction:  [1]\n",
      "Label:  1\n"
     ]
    },
    {
     "data": {
      "image/png": "[encoded data removed]",
      "text/plain": [
       "<Figure size 640x480 with 1 Axes>"
      ]
     },
     "metadata": {},
     "output_type": "display_data"
    }
   ],
   "source": [
    "test_prediction(3, W1, b1, W2, b2)"
   ]
  },
  {
   "cell_type": "markdown",
   "metadata": {},
   "source": [
    "SVM"
   ]
  },
  {
   "cell_type": "markdown",
   "metadata": {},
   "source": [
    "INBUILT SVM"
   ]
  },
  {
   "cell_type": "code",
   "execution_count": 36,
   "metadata": {},
   "outputs": [
    {
     "name": "stdout",
     "output_type": "stream",
     "text": [
      "Accuracy:  0.9777777777777777\n",
      "Predicted   0   1   2   3   4   5   6   7   8   9  All\n",
      "True                                                  \n",
      "0          33   0   0   0   0   0   0   0   0   0   33\n",
      "1           0  28   0   0   0   0   0   0   0   0   28\n",
      "2           0   0  33   0   0   0   0   0   0   0   33\n",
      "3           0   0   0  32   0   1   0   0   0   1   34\n",
      "4           0   1   0   0  45   0   0   0   0   0   46\n",
      "5           0   0   0   0   0  47   0   0   0   0   47\n",
      "6           0   0   0   0   0   0  35   0   0   0   35\n",
      "7           0   0   0   0   0   0   0  33   0   1   34\n",
      "8           0   0   0   0   0   1   0   0  29   0   30\n",
      "9           0   0   0   1   1   0   0   1   0  37   40\n",
      "All        33  29  33  33  46  49  35  34  29  39  360\n"
     ]
    }
   ],
   "source": [
    "# Import the required libraries\n",
    "import numpy as np\n",
    "import pandas as pd\n",
    "from sklearn import datasets, svm\n",
    "from sklearn.model_selection import train_test_split\n",
    "\n",
    "# Load the MNIST dataset\n",
    "mnist = datasets.load_digits()\n",
    "\n",
    "# Split the data into training and testing sets\n",
    "X_train, X_test, y_train, y_test = train_test_split(mnist.data, mnist.target, test_size=0.2, random_state=42)\n",
    "\n",
    "# Train the SVM model\n",
    "clf = svm.SVC(kernel='linear')\n",
    "clf.fit(X_train, y_train)\n",
    "\n",
    "# Evaluate the model on the testing data\n",
    "accuracy = clf.score(X_test, y_test)\n",
    "print(\"Accuracy: \", accuracy)\n",
    "\n",
    "# Predict the labels of the testing data\n",
    "y_pred = clf.predict(X_test)\n",
    "\n",
    "# Create a confusion matrix to evaluate the performance of the model\n",
    "conf_matrix = pd.crosstab(y_test, y_pred, rownames=['True'], colnames=['Predicted'], margins=True)\n",
    "print(conf_matrix)\n"
   ]
  },
  {
   "cell_type": "markdown",
   "metadata": {},
   "source": [
    "NON INBUILT SVM"
   ]
  },
  {
   "cell_type": "code",
   "execution_count": 23,
   "metadata": {},
   "outputs": [],
   "source": []
  },
  {
   "cell_type": "code",
   "execution_count": 63,
   "metadata": {},
   "outputs": [],
   "source": [
    "data = pd.read_csv(\"mnist_test.csv\")"
   ]
  },
  {
   "cell_type": "code",
   "execution_count": 64,
   "metadata": {},
   "outputs": [
    {
     "name": "stdout",
     "output_type": "stream",
     "text": [
      "   label  1x1  1x2  1x3  1x4  1x5  1x6  1x7  1x8  1x9  ...  28x19  28x20  \\\n",
      "0      7    0    0    0    0    0    0    0    0    0  ...      0      0   \n",
      "1      2    0    0    0    0    0    0    0    0    0  ...      0      0   \n",
      "2      1    0    0    0    0    0    0    0    0    0  ...      0      0   \n",
      "3      0    0    0    0    0    0    0    0    0    0  ...      0      0   \n",
      "4      4    0    0    0    0    0    0    0    0    0  ...      0      0   \n",
      "\n",
      "   28x21  28x22  28x23  28x24  28x25  28x26  28x27  28x28  \n",
      "0      0      0      0      0      0      0      0      0  \n",
      "1      0      0      0      0      0      0      0      0  \n",
      "2      0      0      0      0      0      0      0      0  \n",
      "3      0      0      0      0      0      0      0      0  \n",
      "4      0      0      0      0      0      0      0      0  \n",
      "\n",
      "[5 rows x 785 columns]\n"
     ]
    }
   ],
   "source": [
    "print(data.head())"
   ]
  },
  {
   "cell_type": "code",
   "execution_count": 65,
   "metadata": {},
   "outputs": [],
   "source": [
    "class SVM_classifier():\n",
    "\n",
    "\n",
    "  # initiating the hyperparameters\n",
    "  def __init__(self, learning_rate, no_of_iterations, lambda_parameter):\n",
    "\n",
    "    self.learning_rate = learning_rate\n",
    "    self.no_of_iterations = no_of_iterations\n",
    "    self.lambda_parameter = lambda_parameter\n",
    "\n",
    "\n",
    "  \n",
    "  # fitting the dataset to SVM Classifier\n",
    "  def fit(self, X, Y):\n",
    "\n",
    "    # m  --> number of Data points --> number of rows\n",
    "    # n  --> number of input features --> number of columns\n",
    "    self.m, self.n = X.shape\n",
    "\n",
    "    # initiating the weight value and bias value\n",
    "\n",
    "    self.w = np.zeros(self.n)\n",
    "\n",
    "    self.b = 0\n",
    "\n",
    "    self.X = X\n",
    "\n",
    "    self.Y = Y\n",
    "\n",
    "    # implementing Gradient Descent algorithm for Optimization\n",
    "\n",
    "    for i in range(self.no_of_iterations):\n",
    "      self.update_weights()\n",
    "\n",
    "\n",
    "\n",
    "  # function for updating the weight and bias value\n",
    "  def update_weights(self):\n",
    "\n",
    "    # label encoding\n",
    "    y_label = np.where(self.Y <= 0, -1, 1)\n",
    "\n",
    "\n",
    "\n",
    "    # gradients ( dw, db)\n",
    "    for index, x_i in enumerate(self.X):\n",
    "\n",
    "      condition = y_label[index] * (np.dot(x_i, self.w) - self.b) >= 1\n",
    "\n",
    "      if (condition == True):\n",
    "\n",
    "        dw = 2 * self.lambda_parameter * self.w\n",
    "        db = 0\n",
    "\n",
    "      else:\n",
    "\n",
    "        dw = 2 * self.lambda_parameter * self.w - np.dot(x_i, y_label[index])\n",
    "        db = y_label[index]\n",
    "\n",
    "\n",
    "      self.w = self.w - self.learning_rate * dw\n",
    "\n",
    "      self.b = self.b - self.learning_rate * db\n",
    "\n",
    "    return self.w , self.b\n",
    "\n",
    "\n",
    "  # predict the label for a given input value\n",
    "  def predict(self,X):\n",
    "\n",
    "    output = np.dot(X, self.w) - self.b\n",
    "    \n",
    "    predicted_labels = np.sign(output)\n",
    "\n",
    "    y_hat = np.where(predicted_labels <= -1, 0, 1)\n",
    "\n",
    "    return y_hat"
   ]
  },
  {
   "cell_type": "code",
   "execution_count": null,
   "metadata": {},
   "outputs": [],
   "source": [
    "#This is an implementation of a Support Vector Machine (SVM) classifier in Python. \n",
    "#The class has three attributes: learning rate, number of iterations, and lambda parameter, \n",
    "#which are set during the initiation of the class.\n",
    "\n",
    "#The class has three main functions: fit, update_weights, and predict.\n",
    "\n",
    "#The fit function takes in two inputs: X and Y. X is the input data, and Y is the target variable. \n",
    "#The function initializes the number of data points (m) and the number of features (n). \n",
    "#The function then initializes the weight and bias parameters \n",
    "#and performs gradient descent optimization for the specified number of iterations.\n",
    "\n",
    "#The update_weights function performs label encoding on Y and updates the weight \n",
    "#and bias values using gradient descent. The gradient is calculated as a function of the error between the predicted output and actual output.\n",
    "\n",
    "#The predict function takes in X as an input and returns the predicted label using the dot product of X \n",
    "#and the updated weight values, subtracting the bias value. The sign of the output is taken as the predicted label, \n",
    "#and the output is thresholded to 0 or 1 based on the value of the sign."
   ]
  },
  {
   "cell_type": "code",
   "execution_count": 66,
   "metadata": {},
   "outputs": [],
   "source": [
    "svm_classifier = SVM_classifier(learning_rate = 0.001 , no_of_iterations = 1000 , lambda_parameter= 0.01)"
   ]
  },
  {
   "cell_type": "code",
   "execution_count": 69,
   "metadata": {},
   "outputs": [],
   "source": [
    "# Check if the \"label\" column exists\n",
    "if \"label\" in data.columns:\n",
    "    # Split the data into features and target variables\n",
    "    X = data.drop(\"label\", axis=1)\n",
    "    y = data[\"label\"]\n",
    "else:\n",
    "    print(\"The 'label' column was not found in the data.\")\n",
    "\n",
    "# Split the data into training and testing sets\n",
    "from sklearn.model_selection import train_test_split\n",
    "X_train, X_test, y_train, y_test = train_test_split(X, y, test_size=0.3)\n",
    "\n",
    "# Fit and transform the one-hot encoder on the training data\n",
    "from sklearn.preprocessing import OneHotEncoder\n",
    "onehot_encoder = OneHotEncoder(sparse=False)\n",
    "onehot_encoder.fit(y_train.values.reshape(-1, 1))\n",
    "\n",
    "# Transform the training and test data\n",
    "y_train_encoded = onehot_encoder.transform(y_train.values.reshape(-1, 1))\n",
    "y_test_encoded = onehot_encoder.transform(y_test.values.reshape(-1, 1))"
   ]
  },
  {
   "cell_type": "code",
   "execution_count": 71,
   "metadata": {},
   "outputs": [
    {
     "name": "stdout",
     "output_type": "stream",
     "text": [
      "Accuracy: 0.11\n"
     ]
    }
   ],
   "source": [
    "y_pred = svm_classifier.predict(X_test)\n",
    "accuracy = np.mean(y_pred == y_test)\n",
    "print(\"Accuracy:\", accuracy)"
   ]
  },
  {
   "cell_type": "markdown",
   "metadata": {},
   "source": [
    "KNN"
   ]
  },
  {
   "cell_type": "markdown",
   "metadata": {},
   "source": [
    "INBUILT KNN"
   ]
  },
  {
   "cell_type": "code",
   "execution_count": 62,
   "metadata": {},
   "outputs": [
    {
     "name": "stdout",
     "output_type": "stream",
     "text": [
      "Accuracy: 0.9693571428571428\n"
     ]
    }
   ],
   "source": [
    "import numpy as np\n",
    "from sklearn.datasets import fetch_openml\n",
    "from sklearn.model_selection import train_test_split\n",
    "from sklearn.neighbors import KNeighborsClassifier\n",
    "\n",
    "# Load the MNIST dataset\n",
    "mnist = fetch_openml('mnist_784', version=1)\n",
    "X, y = mnist[\"data\"], mnist[\"target\"]\n",
    "\n",
    "# Split into training and test set\n",
    "X_train, X_test, y_train, y_test = train_test_split(X, y, test_size=0.2, random_state=0)\n",
    "\n",
    "# Train the KNN model\n",
    "knn = KNeighborsClassifier(n_neighbors=5)\n",
    "knn.fit(X_train, y_train)\n",
    "\n",
    "# Evaluate the model on the test set\n",
    "accuracy = knn.score(X_test, y_test)\n",
    "print(\"Accuracy:\", accuracy)\n"
   ]
  },
  {
   "cell_type": "markdown",
   "metadata": {},
   "source": [
    "WITHOUT INBUILT KNN"
   ]
  },
  {
   "cell_type": "code",
   "execution_count": 2,
   "metadata": {},
   "outputs": [],
   "source": [
    "import pandas as pd"
   ]
  },
  {
   "cell_type": "code",
   "execution_count": 8,
   "metadata": {},
   "outputs": [
    {
     "data": {
      "text/html": [
       "<div>\n",
       "<style scoped>\n",
       "    .dataframe tbody tr th:only-of-type {\n",
       "        vertical-align: middle;\n",
       "    }\n",
       "\n",
       "    .dataframe tbody tr th {\n",
       "        vertical-align: top;\n",
       "    }\n",
       "\n",
       "    .dataframe thead th {\n",
       "        text-align: right;\n",
       "    }\n",
       "</style>\n",
       "<table border=\"1\" class=\"dataframe\">\n",
       "  <thead>\n",
       "    <tr style=\"text-align: right;\">\n",
       "      <th></th>\n",
       "      <th>label</th>\n",
       "      <th>pixel0</th>\n",
       "      <th>pixel1</th>\n",
       "      <th>pixel2</th>\n",
       "      <th>pixel3</th>\n",
       "      <th>pixel4</th>\n",
       "      <th>pixel5</th>\n",
       "      <th>pixel6</th>\n",
       "      <th>pixel7</th>\n",
       "      <th>pixel8</th>\n",
       "      <th>...</th>\n",
       "      <th>pixel774</th>\n",
       "      <th>pixel775</th>\n",
       "      <th>pixel776</th>\n",
       "      <th>pixel777</th>\n",
       "      <th>pixel778</th>\n",
       "      <th>pixel779</th>\n",
       "      <th>pixel780</th>\n",
       "      <th>pixel781</th>\n",
       "      <th>pixel782</th>\n",
       "      <th>pixel783</th>\n",
       "    </tr>\n",
       "  </thead>\n",
       "  <tbody>\n",
       "    <tr>\n",
       "      <th>0</th>\n",
       "      <td>1</td>\n",
       "      <td>0</td>\n",
       "      <td>0</td>\n",
       "      <td>0</td>\n",
       "      <td>0</td>\n",
       "      <td>0</td>\n",
       "      <td>0</td>\n",
       "      <td>0</td>\n",
       "      <td>0</td>\n",
       "      <td>0</td>\n",
       "      <td>...</td>\n",
       "      <td>0</td>\n",
       "      <td>0</td>\n",
       "      <td>0</td>\n",
       "      <td>0</td>\n",
       "      <td>0</td>\n",
       "      <td>0</td>\n",
       "      <td>0</td>\n",
       "      <td>0</td>\n",
       "      <td>0</td>\n",
       "      <td>0</td>\n",
       "    </tr>\n",
       "    <tr>\n",
       "      <th>1</th>\n",
       "      <td>0</td>\n",
       "      <td>0</td>\n",
       "      <td>0</td>\n",
       "      <td>0</td>\n",
       "      <td>0</td>\n",
       "      <td>0</td>\n",
       "      <td>0</td>\n",
       "      <td>0</td>\n",
       "      <td>0</td>\n",
       "      <td>0</td>\n",
       "      <td>...</td>\n",
       "      <td>0</td>\n",
       "      <td>0</td>\n",
       "      <td>0</td>\n",
       "      <td>0</td>\n",
       "      <td>0</td>\n",
       "      <td>0</td>\n",
       "      <td>0</td>\n",
       "      <td>0</td>\n",
       "      <td>0</td>\n",
       "      <td>0</td>\n",
       "    </tr>\n",
       "    <tr>\n",
       "      <th>2</th>\n",
       "      <td>1</td>\n",
       "      <td>0</td>\n",
       "      <td>0</td>\n",
       "      <td>0</td>\n",
       "      <td>0</td>\n",
       "      <td>0</td>\n",
       "      <td>0</td>\n",
       "      <td>0</td>\n",
       "      <td>0</td>\n",
       "      <td>0</td>\n",
       "      <td>...</td>\n",
       "      <td>0</td>\n",
       "      <td>0</td>\n",
       "      <td>0</td>\n",
       "      <td>0</td>\n",
       "      <td>0</td>\n",
       "      <td>0</td>\n",
       "      <td>0</td>\n",
       "      <td>0</td>\n",
       "      <td>0</td>\n",
       "      <td>0</td>\n",
       "    </tr>\n",
       "    <tr>\n",
       "      <th>3</th>\n",
       "      <td>4</td>\n",
       "      <td>0</td>\n",
       "      <td>0</td>\n",
       "      <td>0</td>\n",
       "      <td>0</td>\n",
       "      <td>0</td>\n",
       "      <td>0</td>\n",
       "      <td>0</td>\n",
       "      <td>0</td>\n",
       "      <td>0</td>\n",
       "      <td>...</td>\n",
       "      <td>0</td>\n",
       "      <td>0</td>\n",
       "      <td>0</td>\n",
       "      <td>0</td>\n",
       "      <td>0</td>\n",
       "      <td>0</td>\n",
       "      <td>0</td>\n",
       "      <td>0</td>\n",
       "      <td>0</td>\n",
       "      <td>0</td>\n",
       "    </tr>\n",
       "    <tr>\n",
       "      <th>4</th>\n",
       "      <td>0</td>\n",
       "      <td>0</td>\n",
       "      <td>0</td>\n",
       "      <td>0</td>\n",
       "      <td>0</td>\n",
       "      <td>0</td>\n",
       "      <td>0</td>\n",
       "      <td>0</td>\n",
       "      <td>0</td>\n",
       "      <td>0</td>\n",
       "      <td>...</td>\n",
       "      <td>0</td>\n",
       "      <td>0</td>\n",
       "      <td>0</td>\n",
       "      <td>0</td>\n",
       "      <td>0</td>\n",
       "      <td>0</td>\n",
       "      <td>0</td>\n",
       "      <td>0</td>\n",
       "      <td>0</td>\n",
       "      <td>0</td>\n",
       "    </tr>\n",
       "    <tr>\n",
       "      <th>5</th>\n",
       "      <td>0</td>\n",
       "      <td>0</td>\n",
       "      <td>0</td>\n",
       "      <td>0</td>\n",
       "      <td>0</td>\n",
       "      <td>0</td>\n",
       "      <td>0</td>\n",
       "      <td>0</td>\n",
       "      <td>0</td>\n",
       "      <td>0</td>\n",
       "      <td>...</td>\n",
       "      <td>0</td>\n",
       "      <td>0</td>\n",
       "      <td>0</td>\n",
       "      <td>0</td>\n",
       "      <td>0</td>\n",
       "      <td>0</td>\n",
       "      <td>0</td>\n",
       "      <td>0</td>\n",
       "      <td>0</td>\n",
       "      <td>0</td>\n",
       "    </tr>\n",
       "    <tr>\n",
       "      <th>6</th>\n",
       "      <td>7</td>\n",
       "      <td>0</td>\n",
       "      <td>0</td>\n",
       "      <td>0</td>\n",
       "      <td>0</td>\n",
       "      <td>0</td>\n",
       "      <td>0</td>\n",
       "      <td>0</td>\n",
       "      <td>0</td>\n",
       "      <td>0</td>\n",
       "      <td>...</td>\n",
       "      <td>0</td>\n",
       "      <td>0</td>\n",
       "      <td>0</td>\n",
       "      <td>0</td>\n",
       "      <td>0</td>\n",
       "      <td>0</td>\n",
       "      <td>0</td>\n",
       "      <td>0</td>\n",
       "      <td>0</td>\n",
       "      <td>0</td>\n",
       "    </tr>\n",
       "    <tr>\n",
       "      <th>7</th>\n",
       "      <td>3</td>\n",
       "      <td>0</td>\n",
       "      <td>0</td>\n",
       "      <td>0</td>\n",
       "      <td>0</td>\n",
       "      <td>0</td>\n",
       "      <td>0</td>\n",
       "      <td>0</td>\n",
       "      <td>0</td>\n",
       "      <td>0</td>\n",
       "      <td>...</td>\n",
       "      <td>0</td>\n",
       "      <td>0</td>\n",
       "      <td>0</td>\n",
       "      <td>0</td>\n",
       "      <td>0</td>\n",
       "      <td>0</td>\n",
       "      <td>0</td>\n",
       "      <td>0</td>\n",
       "      <td>0</td>\n",
       "      <td>0</td>\n",
       "    </tr>\n",
       "    <tr>\n",
       "      <th>8</th>\n",
       "      <td>5</td>\n",
       "      <td>0</td>\n",
       "      <td>0</td>\n",
       "      <td>0</td>\n",
       "      <td>0</td>\n",
       "      <td>0</td>\n",
       "      <td>0</td>\n",
       "      <td>0</td>\n",
       "      <td>0</td>\n",
       "      <td>0</td>\n",
       "      <td>...</td>\n",
       "      <td>0</td>\n",
       "      <td>0</td>\n",
       "      <td>0</td>\n",
       "      <td>0</td>\n",
       "      <td>0</td>\n",
       "      <td>0</td>\n",
       "      <td>0</td>\n",
       "      <td>0</td>\n",
       "      <td>0</td>\n",
       "      <td>0</td>\n",
       "    </tr>\n",
       "    <tr>\n",
       "      <th>9</th>\n",
       "      <td>3</td>\n",
       "      <td>0</td>\n",
       "      <td>0</td>\n",
       "      <td>0</td>\n",
       "      <td>0</td>\n",
       "      <td>0</td>\n",
       "      <td>0</td>\n",
       "      <td>0</td>\n",
       "      <td>0</td>\n",
       "      <td>0</td>\n",
       "      <td>...</td>\n",
       "      <td>0</td>\n",
       "      <td>0</td>\n",
       "      <td>0</td>\n",
       "      <td>0</td>\n",
       "      <td>0</td>\n",
       "      <td>0</td>\n",
       "      <td>0</td>\n",
       "      <td>0</td>\n",
       "      <td>0</td>\n",
       "      <td>0</td>\n",
       "    </tr>\n",
       "  </tbody>\n",
       "</table>\n",
       "<p>10 rows × 785 columns</p>\n",
       "</div>"
      ],
      "text/plain": [
       "   label  pixel0  pixel1  pixel2  pixel3  pixel4  pixel5  pixel6  pixel7  \\\n",
       "0      1       0       0       0       0       0       0       0       0   \n",
       "1      0       0       0       0       0       0       0       0       0   \n",
       "2      1       0       0       0       0       0       0       0       0   \n",
       "3      4       0       0       0       0       0       0       0       0   \n",
       "4      0       0       0       0       0       0       0       0       0   \n",
       "5      0       0       0       0       0       0       0       0       0   \n",
       "6      7       0       0       0       0       0       0       0       0   \n",
       "7      3       0       0       0       0       0       0       0       0   \n",
       "8      5       0       0       0       0       0       0       0       0   \n",
       "9      3       0       0       0       0       0       0       0       0   \n",
       "\n",
       "   pixel8  ...  pixel774  pixel775  pixel776  pixel777  pixel778  pixel779  \\\n",
       "0       0  ...         0         0         0         0         0         0   \n",
       "1       0  ...         0         0         0         0         0         0   \n",
       "2       0  ...         0         0         0         0         0         0   \n",
       "3       0  ...         0         0         0         0         0         0   \n",
       "4       0  ...         0         0         0         0         0         0   \n",
       "5       0  ...         0         0         0         0         0         0   \n",
       "6       0  ...         0         0         0         0         0         0   \n",
       "7       0  ...         0         0         0         0         0         0   \n",
       "8       0  ...         0         0         0         0         0         0   \n",
       "9       0  ...         0         0         0         0         0         0   \n",
       "\n",
       "   pixel780  pixel781  pixel782  pixel783  \n",
       "0         0         0         0         0  \n",
       "1         0         0         0         0  \n",
       "2         0         0         0         0  \n",
       "3         0         0         0         0  \n",
       "4         0         0         0         0  \n",
       "5         0         0         0         0  \n",
       "6         0         0         0         0  \n",
       "7         0         0         0         0  \n",
       "8         0         0         0         0  \n",
       "9         0         0         0         0  \n",
       "\n",
       "[10 rows x 785 columns]"
      ]
     },
     "execution_count": 8,
     "metadata": {},
     "output_type": "execute_result"
    }
   ],
   "source": [
    "df_train_data = pd.read_csv('train.csv')\n",
    "df_test_data = pd.read_csv('test.csv')\n",
    "df_train_data.head(10)\n"
   ]
  },
  {
   "cell_type": "code",
   "execution_count": 6,
   "metadata": {},
   "outputs": [],
   "source": [
    "import matplotlib.pyplot as plt"
   ]
  },
  {
   "cell_type": "code",
   "execution_count": 9,
   "metadata": {
    "scrolled": true
   },
   "outputs": [
    {
     "data": {
      "image/png": "[encoded data removed]",
      "text/plain": [
       "<Figure size 432x288 with 10 Axes>"
      ]
     },
     "metadata": {
      "needs_background": "light"
     },
     "output_type": "display_data"
    }
   ],
   "source": [
    "# The training data is in a format whereby the label (the digit represented, 0 through to 9) is in the first column.\n",
    "# This is followed by 784 columns of pixels, pixel0 through to pixel783.\n",
    "# Each image is 28 pixels by 28 pixels, therefore, a grid of 28x28 means a total number of 784 pixels.\n",
    "\n",
    "# Separate out the pixel data from the labels for the training data:\n",
    "df_train_labels = df_train_data['label']\n",
    "df_train_data = df_train_data.drop(['label'], axis=1)\n",
    "\n",
    "# The original images of the handwritten digits can be viewed using plt and reshaping each row \n",
    "# from the dataframe into a 2D image with a size of 28 by 28 pixels.\n",
    "# This for loop will display the first 10 images from the training data, along with their labels:\n",
    "for i in range(10):\n",
    "    ax= plt.subplot(1,10 ,i+1)\n",
    "    im=ax.imshow(df_train_data.iloc[i].values.reshape(28,28))\n",
    "    plt.xlabel=''\n",
    "    ax.axes.get_xaxis().set_visible(False)\n",
    "    ax.axes.get_yaxis().set_visible(False)\n",
    "    plt.title(df_train_labels.iloc[i])"
   ]
  },
  {
   "cell_type": "code",
   "execution_count": 2,
   "metadata": {},
   "outputs": [
    {
     "ename": "SyntaxError",
     "evalue": "invalid syntax (3537368538.py, line 3)",
     "output_type": "error",
     "traceback": [
      "\u001b[1;36m  File \u001b[1;32m\"C:\\Users\\abhir\\AppData\\Local\\Temp\\ipykernel_23304\\3537368538.py\"\u001b[1;36m, line \u001b[1;32m3\u001b[0m\n\u001b[1;33m    The labels are stored in df_train_labels, while the pixel data is stored in df_train_data after dropping the label column. The second block of code uses a for loop to display the first 10 images from the training data, along with their labels.\u001b[0m\n\u001b[1;37m        ^\u001b[0m\n\u001b[1;31mSyntaxError\u001b[0m\u001b[1;31m:\u001b[0m invalid syntax\n"
     ]
    }
   ],
   "source": [
    "# The code is a pre-processing step for training a machine learning model to recognize handwritten digits. \n",
    "#The first block of code separates the labels (the digit represented) from the pixel data of the images in the training data. \n",
    "#The labels are stored in df_train_labels, while the pixel data is stored in df_train_data after dropping the label column. \n",
    "#The second block of code uses a for loop to display the first 10 images from the training data, along with their labels. \n",
    "#The images are displayed using plt.subplot and imshow, which shows the image as a matrix of 28x28 pixels. \n",
    "#The reshaping of each row of the dataframe into a 2D image is done using .values.reshape(28,28). \n",
    "#The x and y axis labels are turned off for each image using ax.axes.get_xaxis().set_visible(False) and ax.axes.get_yaxis().set_visible(False). \n",
    "#The digit label is displayed as the title of each image using plt.title(df_train_labels.iloc[i]).\n"
   ]
  },
  {
   "cell_type": "markdown",
   "metadata": {},
   "source": [
    "4 DIFFERENT FUNCTIONS FOR KNN "
   ]
  },
  {
   "cell_type": "markdown",
   "metadata": {},
   "source": [
    "1)Calculate the distance between the current training point and the the new unclassified point"
   ]
  },
  {
   "cell_type": "code",
   "execution_count": 10,
   "metadata": {},
   "outputs": [
    {
     "data": {
      "text/plain": [
       "<Figure size 432x288 with 0 Axes>"
      ]
     },
     "metadata": {},
     "output_type": "display_data"
    },
    {
     "data": {
      "image/png": "[encoded data removed]",
      "text/plain": [
       "<Figure size 432x288 with 1 Axes>"
      ]
     },
     "metadata": {
      "needs_background": "light"
     },
     "output_type": "display_data"
    }
   ],
   "source": [
    "# Point A is [1,1]\n",
    "# Point B is [5,4]\n",
    "\n",
    "# Draw 2D right angle triangle\n",
    "fig = plt.figure()\n",
    "fig, ax = plt.subplots()\n",
    "ax.plot([1,5], [1,4], linestyle='solid')\n",
    "ax.text(0.82,0.9, \"A\", color='red', size=20)\n",
    "ax.text(5.01,3.92, \"B\", color='red', size=20)\n",
    "ax.text(2,2, \"Hypotenuse\", color='blue', rotation=32.5, size=20)\n",
    "# Add the x, y sides of the triangle\n",
    "ax.plot([1,5], [1,1], linestyle='dashed')\n",
    "ax.plot([5,5], [1,4], linestyle='dashed')\n",
    "\n",
    "ax.set_xlabel(\"x\")\n",
    "ax.set_ylabel(\"y\")\n",
    "plt.show()"
   ]
  },
  {
   "cell_type": "code",
   "execution_count": null,
   "metadata": {},
   "outputs": [],
   "source": [
    "#The output is a 2D plot of a right-angled triangle with two points A and B denoted by red letters. \n",
    "#Point A is located at coordinates [1,1] and point B is located at coordinates [5,4]. \n",
    "#The hypotenuse of the triangle is represented by a solid line connecting points A and B. \n",
    "#The x,y sides of the triangle are represented by dotted lines. \n",
    "#The x-axis is labeled \"x\" and the y-axis is labeled \"y\". \n",
    "#The plot is displayed using the plt.show() function."
   ]
  },
  {
   "cell_type": "code",
   "execution_count": 11,
   "metadata": {},
   "outputs": [
    {
     "data": {
      "image/png": "[encoded data removed]",
      "text/plain": [
       "<Figure size 640x480 with 1 Axes>"
      ]
     },
     "metadata": {},
     "output_type": "display_data"
    }
   ],
   "source": [
    "#MORE DIMENSIONS\n",
    "# Draw 3D right angle pyramid\n",
    "from mpl_toolkits.mplot3d import Axes3D\n",
    "plt.rcParams.update(plt.rcParamsDefault)\n",
    "fig = plt.figure()\n",
    "ax = fig.add_subplot(111, projection='3d')\n",
    "# Point A is [1,1,1]\n",
    "# Point B is [4,4,4]\n",
    "ax.plot([1,4], [1,4], [1,4], linestyle='solid')\n",
    "ax.text(0.9,0.9,0.9, \"A\", color='red')\n",
    "ax.text(4.1,4.1,4.1, \"B\", color='red')\n",
    "# Add the x, y and z sides of the triangular pyramid\n",
    "ax.plot([1,4], [1,1], [1,1], linestyle='dashed')\n",
    "ax.plot([4,4], [1,4], [1,1], linestyle='dashed')\n",
    "ax.plot([4,4], [4,4], [1,4], linestyle='dashed')\n",
    "ax.plot([1,4], [1,4], [1,1], linestyle='dashed')\n",
    "ax.set_xlabel(\"x\")\n",
    "ax.set_ylabel(\"y\")\n",
    "ax.set_zlabel(\"z\")\n",
    "plt.show()"
   ]
  },
  {
   "cell_type": "code",
   "execution_count": null,
   "metadata": {},
   "outputs": [],
   "source": [
    "#This code is a python script that draws a 3D right angle pyramid in a graphical plot. \n",
    "#It uses the mpl_toolkits.mplot3d library to plot the 3D graph.\n",
    "\n",
    "#The fig variable creates an empty figure, then ax is added as a subplot to the figure with a projection of '3d', meaning it is a 3D plot.\n",
    "\n",
    "#The two points A and B are defined with their x, y, and z coordinates [1,1,1] and [4,4,4] respectively. \n",
    "#These points are plotted as a solid line.\n",
    "\n",
    "#Text labels \"A\" and \"B\" are added to the respective points with the ax.text function.\n",
    "\n",
    "#The x, y, and z sides of the triangular pyramid are added with the ax.plot function, each having a dashed line style.\n",
    "\n",
    "#Finally, the x, y, and z axis labels are set using the ax.set_xlabel, ax.set_ylabel, and ax.set_zlabel functions, respectively.\n",
    "\n",
    "#The plot is shown using the plt.show() function."
   ]
  },
  {
   "cell_type": "code",
   "execution_count": 13,
   "metadata": {},
   "outputs": [],
   "source": [
    "import numpy as np"
   ]
  },
  {
   "cell_type": "code",
   "execution_count": 14,
   "metadata": {},
   "outputs": [
    {
     "name": "stdout",
     "output_type": "stream",
     "text": [
      "The Euclidean distance from A to B is equal to\n",
      "5.196152422706632\n"
     ]
    }
   ],
   "source": [
    "# With points 1,1,1 and 4,4,4, the length of each side is 4 - 1 = 3\n",
    "# The length of the x side is 3, the length of the y side is 3, and the z side is 3\n",
    "print(\"The Euclidean distance from A to B is equal to\")\n",
    "print(np.sqrt( 3**2 + 3**2 + 3**2 ))"
   ]
  },
  {
   "cell_type": "code",
   "execution_count": 15,
   "metadata": {},
   "outputs": [
    {
     "name": "stdout",
     "output_type": "stream",
     "text": [
      "9.797958971132712\n"
     ]
    }
   ],
   "source": [
    "# We can define a function for 2 points in multiple dimensions\n",
    "\n",
    "def euclid_distance(p1, p2):\n",
    "\n",
    "    # Create an integer to store the running total sum\n",
    "    sum_of_square_distances = 0\n",
    "    for a,b in zip(p1,p2):\n",
    "        # for each dimension, find the distance between the 2 points in that dimension, and square it\n",
    "        # a and b represent the coordinate in the current dimension for points p1 and p2\n",
    "        distance_in_this_dimension_squared = (a - b)**2\n",
    "        sum_of_square_distances = sum_of_square_distances + distance_in_this_dimension_squared\n",
    "    \n",
    "    # The euclidean distance is the square root of the sum of all of the (distances in each dimension squared)\n",
    "    euclidean_distance = np.sqrt(sum_of_square_distances)\n",
    "    \n",
    "    return euclidean_distance\n",
    "\n",
    "# For 2 points which have coordinates in 6 dimensions:\n",
    "point1 = (5,6,7,8,9,10)\n",
    "point2 = (1,2,3,4,5,6)\n",
    "\n",
    "print(euclid_distance(point1, point2))"
   ]
  },
  {
   "cell_type": "markdown",
   "metadata": {},
   "source": [
    "2) Identify the labels of the \"k\" points in our dataset with the smallest distances to the new point"
   ]
  },
  {
   "cell_type": "code",
   "execution_count": 16,
   "metadata": {},
   "outputs": [],
   "source": [
    "def labels_of_nearest_neighbours(np_list_of_distances, np_list_of_labels, k):\n",
    "    \n",
    "    \"\"\"\n",
    "    Arguments:\n",
    "        np_list_of_distances: a numpy array of distances between the new point and the known/training points\n",
    "        np_list_of_labels: a numpy array of labels for the known/training points\n",
    "        k: integer of the number of nearest neighbours to consider\n",
    "    Returns: the labels corresponding to the neighbours with the smallest distances.\n",
    "    \"\"\"\n",
    "    # reshape both input lists from a row to a column\n",
    "    np_list_of_distances = np_list_of_distances.reshape(-1,1)\n",
    "    np_list_of_labels = np_list_of_labels.reshape(-1,1)\n",
    "    \n",
    "    # can now join the 2 columns together into an array and convert into a dataframe\n",
    "    np_distances_and_labels = np.concatenate((np_list_of_distances,np_list_of_labels), axis = 1)\n",
    "    labels_df = pd.DataFrame(np_distances_and_labels, columns=['distance','label'])\n",
    "    \n",
    "    # sort the entries in the dataframe by distance\n",
    "    labels_df = labels_df.sort_values('distance')\n",
    "    return labels_df['label'].head(k).values"
   ]
  },
  {
   "cell_type": "code",
   "execution_count": null,
   "metadata": {},
   "outputs": [],
   "source": [
    "#The labels_of_nearest_neighbours function receives as input two numpy arrays, np_list_of_distances and np_list_of_labels, and an integer k.\n",
    "\n",
    "#The function first converts the input numpy arrays into a dataframe with columns 'distance' and 'label' by reshaping the arrays and concatenating them.\n",
    "\n",
    "#Then, the dataframe is sorted by the 'distance' column.\n",
    "\n",
    "#Finally, the function returns the first k labels in the sorted dataframe as a numpy array."
   ]
  },
  {
   "cell_type": "markdown",
   "metadata": {},
   "source": [
    "3)Identify the most common label in a given set of labels"
   ]
  },
  {
   "cell_type": "code",
   "execution_count": 17,
   "metadata": {},
   "outputs": [],
   "source": [
    "from collections import Counter\n",
    "\n",
    "def most_common_label(np_arr_of_labels):\n",
    "    \"\"\"\n",
    "    Arguments:\n",
    "        np_list_of_labels: a numpy array of labels. \n",
    "    Returns: the most common label    \n",
    "    \"\"\"\n",
    "    mostCommon = Counter(np_arr_of_labels).most_common(1)\n",
    "    return mostCommon[0][0]\n"
   ]
  },
  {
   "cell_type": "code",
   "execution_count": null,
   "metadata": {},
   "outputs": [],
   "source": [
    "#This code is for finding the most common label in an array of labels represented as a numpy array (np_arr_of_labels).\n",
    "\n",
    "#It first uses the collections library's Counter function to count the number of occurrences of each label.\n",
    "\n",
    "#The most_common method is then used to retrieve the label with the highest count.\n",
    "\n",
    "#Finally, the function returns this label by accessing the first item of the first item in the resulting mostCommon list."
   ]
  },
  {
   "cell_type": "markdown",
   "metadata": {},
   "source": [
    "4) Bring it all together in the simple KNN"
   ]
  },
  {
   "cell_type": "code",
   "execution_count": 18,
   "metadata": {},
   "outputs": [],
   "source": [
    "def simple_KNN( new_point, existing_points, labels_for_existing_points, k=2):\n",
    "    \"\"\"\n",
    "    Arguments:\n",
    "        new_point: a pandas Series corresponding to the new point with an unknown label.\n",
    "        existing_points: a pandas DataFrame containing the known points\n",
    "        labels_for_existing_points: a pandas Series containing the labels for the known points\n",
    "        k: the number of nearest neighbours to consider when identifying the label for the new point\n",
    "        If k is not specified, it defaults to 2\n",
    "    Returns: the predicted label for the new point\n",
    "    \"\"\"\n",
    "    row_count_of_existing_points = existing_points.shape[0]\n",
    "    # Create an empty list of the distances\n",
    "    list_of_distances = []\n",
    "    \n",
    "    # For each known point, calculate the euclidean distance between the known point and the new point\n",
    "    # add the euclidean distance to the list_of_distances\n",
    "    for i in range(row_count_of_existing_points):\n",
    "        this_distance = euclid_distance(new_point, existing_points.iloc[i])\n",
    "        list_of_distances.append(this_distance)\n",
    "    \n",
    "    # Using the list_of_distances, and the list of labels, identify the labels of the points with the \n",
    "    # smallest distance to the new point\n",
    "    labels_of_k_nearest_neighbours = labels_of_nearest_neighbours(np.array(list_of_distances), np.array(labels_for_existing_points), k)\n",
    "    \n",
    "    # Identify the most common label in the nearest neighbours. This is the predicted label for the new point\n",
    "    predicted_label_of_new_point = most_common_label(labels_of_k_nearest_neighbours)\n",
    "    return predicted_label_of_new_point\n",
    "\n",
    "# new point which is closest to the red dots\n",
    "new_point = pd.Series([2,3])\n",
    "# number of nearest neighbours (k) to use to classify a point: set to 2 for simplicity\n",
    "k = 2"
   ]
  },
  {
   "cell_type": "code",
   "execution_count": null,
   "metadata": {},
   "outputs": [],
   "source": [
    "#The simple_KNN function implements the K-nearest neighbor (KNN) algorithm for binary classification.\n",
    "\n",
    "#Given a new data point new_point and existing points existing_points with their corresponding labels labels_for_existing_points, \n",
    "#the function performs the following steps:\n",
    "\n",
    "#Calculates the Euclidean distance between new_point and each existing_point.\n",
    "\n",
    "#Selects the k closest existing_points to new_point based on their Euclidean distances.\n",
    "\n",
    "#Determines the most common label among the k closest existing_points.\n",
    "\n",
    "#Returns the most common label as the predicted label of new_point."
   ]
  },
  {
   "cell_type": "code",
   "execution_count": 19,
   "metadata": {},
   "outputs": [
    {
     "data": {
      "text/html": [
       "<div>\n",
       "<style scoped>\n",
       "    .dataframe tbody tr th:only-of-type {\n",
       "        vertical-align: middle;\n",
       "    }\n",
       "\n",
       "    .dataframe tbody tr th {\n",
       "        vertical-align: top;\n",
       "    }\n",
       "\n",
       "    .dataframe thead th {\n",
       "        text-align: right;\n",
       "    }\n",
       "</style>\n",
       "<table border=\"1\" class=\"dataframe\">\n",
       "  <thead>\n",
       "    <tr style=\"text-align: right;\">\n",
       "      <th></th>\n",
       "      <th>pixel0</th>\n",
       "      <th>pixel1</th>\n",
       "      <th>pixel2</th>\n",
       "      <th>pixel3</th>\n",
       "      <th>pixel4</th>\n",
       "      <th>pixel5</th>\n",
       "      <th>pixel6</th>\n",
       "      <th>pixel7</th>\n",
       "      <th>pixel8</th>\n",
       "      <th>pixel9</th>\n",
       "      <th>...</th>\n",
       "      <th>pixel774</th>\n",
       "      <th>pixel775</th>\n",
       "      <th>pixel776</th>\n",
       "      <th>pixel777</th>\n",
       "      <th>pixel778</th>\n",
       "      <th>pixel779</th>\n",
       "      <th>pixel780</th>\n",
       "      <th>pixel781</th>\n",
       "      <th>pixel782</th>\n",
       "      <th>pixel783</th>\n",
       "    </tr>\n",
       "  </thead>\n",
       "  <tbody>\n",
       "    <tr>\n",
       "      <th>0</th>\n",
       "      <td>0</td>\n",
       "      <td>0</td>\n",
       "      <td>0</td>\n",
       "      <td>0</td>\n",
       "      <td>0</td>\n",
       "      <td>0</td>\n",
       "      <td>0</td>\n",
       "      <td>0</td>\n",
       "      <td>0</td>\n",
       "      <td>0</td>\n",
       "      <td>...</td>\n",
       "      <td>0</td>\n",
       "      <td>0</td>\n",
       "      <td>0</td>\n",
       "      <td>0</td>\n",
       "      <td>0</td>\n",
       "      <td>0</td>\n",
       "      <td>0</td>\n",
       "      <td>0</td>\n",
       "      <td>0</td>\n",
       "      <td>0</td>\n",
       "    </tr>\n",
       "    <tr>\n",
       "      <th>1</th>\n",
       "      <td>0</td>\n",
       "      <td>0</td>\n",
       "      <td>0</td>\n",
       "      <td>0</td>\n",
       "      <td>0</td>\n",
       "      <td>0</td>\n",
       "      <td>0</td>\n",
       "      <td>0</td>\n",
       "      <td>0</td>\n",
       "      <td>0</td>\n",
       "      <td>...</td>\n",
       "      <td>0</td>\n",
       "      <td>0</td>\n",
       "      <td>0</td>\n",
       "      <td>0</td>\n",
       "      <td>0</td>\n",
       "      <td>0</td>\n",
       "      <td>0</td>\n",
       "      <td>0</td>\n",
       "      <td>0</td>\n",
       "      <td>0</td>\n",
       "    </tr>\n",
       "    <tr>\n",
       "      <th>2</th>\n",
       "      <td>0</td>\n",
       "      <td>0</td>\n",
       "      <td>0</td>\n",
       "      <td>0</td>\n",
       "      <td>0</td>\n",
       "      <td>0</td>\n",
       "      <td>0</td>\n",
       "      <td>0</td>\n",
       "      <td>0</td>\n",
       "      <td>0</td>\n",
       "      <td>...</td>\n",
       "      <td>0</td>\n",
       "      <td>0</td>\n",
       "      <td>0</td>\n",
       "      <td>0</td>\n",
       "      <td>0</td>\n",
       "      <td>0</td>\n",
       "      <td>0</td>\n",
       "      <td>0</td>\n",
       "      <td>0</td>\n",
       "      <td>0</td>\n",
       "    </tr>\n",
       "    <tr>\n",
       "      <th>3</th>\n",
       "      <td>0</td>\n",
       "      <td>0</td>\n",
       "      <td>0</td>\n",
       "      <td>0</td>\n",
       "      <td>0</td>\n",
       "      <td>0</td>\n",
       "      <td>0</td>\n",
       "      <td>0</td>\n",
       "      <td>0</td>\n",
       "      <td>0</td>\n",
       "      <td>...</td>\n",
       "      <td>0</td>\n",
       "      <td>0</td>\n",
       "      <td>0</td>\n",
       "      <td>0</td>\n",
       "      <td>0</td>\n",
       "      <td>0</td>\n",
       "      <td>0</td>\n",
       "      <td>0</td>\n",
       "      <td>0</td>\n",
       "      <td>0</td>\n",
       "    </tr>\n",
       "    <tr>\n",
       "      <th>4</th>\n",
       "      <td>0</td>\n",
       "      <td>0</td>\n",
       "      <td>0</td>\n",
       "      <td>0</td>\n",
       "      <td>0</td>\n",
       "      <td>0</td>\n",
       "      <td>0</td>\n",
       "      <td>0</td>\n",
       "      <td>0</td>\n",
       "      <td>0</td>\n",
       "      <td>...</td>\n",
       "      <td>0</td>\n",
       "      <td>0</td>\n",
       "      <td>0</td>\n",
       "      <td>0</td>\n",
       "      <td>0</td>\n",
       "      <td>0</td>\n",
       "      <td>0</td>\n",
       "      <td>0</td>\n",
       "      <td>0</td>\n",
       "      <td>0</td>\n",
       "    </tr>\n",
       "    <tr>\n",
       "      <th>5</th>\n",
       "      <td>0</td>\n",
       "      <td>0</td>\n",
       "      <td>0</td>\n",
       "      <td>0</td>\n",
       "      <td>0</td>\n",
       "      <td>0</td>\n",
       "      <td>0</td>\n",
       "      <td>0</td>\n",
       "      <td>0</td>\n",
       "      <td>0</td>\n",
       "      <td>...</td>\n",
       "      <td>0</td>\n",
       "      <td>0</td>\n",
       "      <td>0</td>\n",
       "      <td>0</td>\n",
       "      <td>0</td>\n",
       "      <td>0</td>\n",
       "      <td>0</td>\n",
       "      <td>0</td>\n",
       "      <td>0</td>\n",
       "      <td>0</td>\n",
       "    </tr>\n",
       "    <tr>\n",
       "      <th>6</th>\n",
       "      <td>0</td>\n",
       "      <td>0</td>\n",
       "      <td>0</td>\n",
       "      <td>0</td>\n",
       "      <td>0</td>\n",
       "      <td>0</td>\n",
       "      <td>0</td>\n",
       "      <td>0</td>\n",
       "      <td>0</td>\n",
       "      <td>0</td>\n",
       "      <td>...</td>\n",
       "      <td>0</td>\n",
       "      <td>0</td>\n",
       "      <td>0</td>\n",
       "      <td>0</td>\n",
       "      <td>0</td>\n",
       "      <td>0</td>\n",
       "      <td>0</td>\n",
       "      <td>0</td>\n",
       "      <td>0</td>\n",
       "      <td>0</td>\n",
       "    </tr>\n",
       "    <tr>\n",
       "      <th>7</th>\n",
       "      <td>0</td>\n",
       "      <td>0</td>\n",
       "      <td>0</td>\n",
       "      <td>0</td>\n",
       "      <td>0</td>\n",
       "      <td>0</td>\n",
       "      <td>0</td>\n",
       "      <td>0</td>\n",
       "      <td>0</td>\n",
       "      <td>0</td>\n",
       "      <td>...</td>\n",
       "      <td>0</td>\n",
       "      <td>0</td>\n",
       "      <td>0</td>\n",
       "      <td>0</td>\n",
       "      <td>0</td>\n",
       "      <td>0</td>\n",
       "      <td>0</td>\n",
       "      <td>0</td>\n",
       "      <td>0</td>\n",
       "      <td>0</td>\n",
       "    </tr>\n",
       "    <tr>\n",
       "      <th>8</th>\n",
       "      <td>0</td>\n",
       "      <td>0</td>\n",
       "      <td>0</td>\n",
       "      <td>0</td>\n",
       "      <td>0</td>\n",
       "      <td>0</td>\n",
       "      <td>0</td>\n",
       "      <td>0</td>\n",
       "      <td>0</td>\n",
       "      <td>0</td>\n",
       "      <td>...</td>\n",
       "      <td>0</td>\n",
       "      <td>0</td>\n",
       "      <td>0</td>\n",
       "      <td>0</td>\n",
       "      <td>0</td>\n",
       "      <td>0</td>\n",
       "      <td>0</td>\n",
       "      <td>0</td>\n",
       "      <td>0</td>\n",
       "      <td>0</td>\n",
       "    </tr>\n",
       "    <tr>\n",
       "      <th>9</th>\n",
       "      <td>0</td>\n",
       "      <td>0</td>\n",
       "      <td>0</td>\n",
       "      <td>0</td>\n",
       "      <td>0</td>\n",
       "      <td>0</td>\n",
       "      <td>0</td>\n",
       "      <td>0</td>\n",
       "      <td>0</td>\n",
       "      <td>0</td>\n",
       "      <td>...</td>\n",
       "      <td>0</td>\n",
       "      <td>0</td>\n",
       "      <td>0</td>\n",
       "      <td>0</td>\n",
       "      <td>0</td>\n",
       "      <td>0</td>\n",
       "      <td>0</td>\n",
       "      <td>0</td>\n",
       "      <td>0</td>\n",
       "      <td>0</td>\n",
       "    </tr>\n",
       "  </tbody>\n",
       "</table>\n",
       "<p>10 rows × 784 columns</p>\n",
       "</div>"
      ],
      "text/plain": [
       "   pixel0  pixel1  pixel2  pixel3  pixel4  pixel5  pixel6  pixel7  pixel8  \\\n",
       "0       0       0       0       0       0       0       0       0       0   \n",
       "1       0       0       0       0       0       0       0       0       0   \n",
       "2       0       0       0       0       0       0       0       0       0   \n",
       "3       0       0       0       0       0       0       0       0       0   \n",
       "4       0       0       0       0       0       0       0       0       0   \n",
       "5       0       0       0       0       0       0       0       0       0   \n",
       "6       0       0       0       0       0       0       0       0       0   \n",
       "7       0       0       0       0       0       0       0       0       0   \n",
       "8       0       0       0       0       0       0       0       0       0   \n",
       "9       0       0       0       0       0       0       0       0       0   \n",
       "\n",
       "   pixel9  ...  pixel774  pixel775  pixel776  pixel777  pixel778  pixel779  \\\n",
       "0       0  ...         0         0         0         0         0         0   \n",
       "1       0  ...         0         0         0         0         0         0   \n",
       "2       0  ...         0         0         0         0         0         0   \n",
       "3       0  ...         0         0         0         0         0         0   \n",
       "4       0  ...         0         0         0         0         0         0   \n",
       "5       0  ...         0         0         0         0         0         0   \n",
       "6       0  ...         0         0         0         0         0         0   \n",
       "7       0  ...         0         0         0         0         0         0   \n",
       "8       0  ...         0         0         0         0         0         0   \n",
       "9       0  ...         0         0         0         0         0         0   \n",
       "\n",
       "   pixel780  pixel781  pixel782  pixel783  \n",
       "0         0         0         0         0  \n",
       "1         0         0         0         0  \n",
       "2         0         0         0         0  \n",
       "3         0         0         0         0  \n",
       "4         0         0         0         0  \n",
       "5         0         0         0         0  \n",
       "6         0         0         0         0  \n",
       "7         0         0         0         0  \n",
       "8         0         0         0         0  \n",
       "9         0         0         0         0  \n",
       "\n",
       "[10 rows x 784 columns]"
      ]
     },
     "execution_count": 19,
     "metadata": {},
     "output_type": "execute_result"
    }
   ],
   "source": [
    "df_test_data.head(10)"
   ]
  },
  {
   "cell_type": "code",
   "execution_count": 20,
   "metadata": {},
   "outputs": [
    {
     "data": {
      "image/png": "[encoded data removed]",
      "text/plain": [
       "<Figure size 640x480 with 10 Axes>"
      ]
     },
     "metadata": {},
     "output_type": "display_data"
    }
   ],
   "source": [
    "# Display the first images in the test set\n",
    "for i in range(10):\n",
    "    ax= plt.subplot(1,10 ,i+1)\n",
    "    im=ax.imshow(df_test_data.iloc[i].values.reshape(28,28))\n",
    "    plt.xlabel=''\n",
    "    ax.axes.get_xaxis().set_visible(False)\n",
    "    ax.axes.get_yaxis().set_visible(False)"
   ]
  },
  {
   "cell_type": "code",
   "execution_count": null,
   "metadata": {},
   "outputs": [],
   "source": [
    "#The code is using matplotlib to display the first 10 images from a test data set. \n",
    "#The test data set is stored in a pandas dataframe, df_test_data.\n",
    "\n",
    "#For each iteration of the loop, a subplot with the index i is created in a grid of 1 row and 10 columns. \n",
    "#Then, the image is displayed using imshow method by reshaping the data into 28x28 pixels. \n",
    "#The x and y axis labels are removed by setting their visibility to false.\n",
    "\n",
    "#Finally, the plot is displayed using the plt.show() method."
   ]
  },
  {
   "cell_type": "code",
   "execution_count": 21,
   "metadata": {},
   "outputs": [],
   "source": [
    "#set new_point equal to the first entry in the test data\n",
    "# (from the above we can see that the first image is a number 2)\n",
    "new_point = df_test_data.iloc[0]"
   ]
  },
  {
   "cell_type": "code",
   "execution_count": 22,
   "metadata": {},
   "outputs": [
    {
     "name": "stdout",
     "output_type": "stream",
     "text": [
      "2.0\n"
     ]
    }
   ],
   "source": [
    "# test by comparing the test image against the first 1000 entries \n",
    "# in the training data \n",
    "print(simple_KNN(new_point, df_train_data.head(1000), df_train_labels.head(1000), k))"
   ]
  },
  {
   "cell_type": "code",
   "execution_count": null,
   "metadata": {},
   "outputs": [],
   "source": []
  }
 ],
 "metadata": {
  "kernelspec": {
   "display_name": "Python 3 (ipykernel)",
   "language": "python",
   "name": "python3"
  },
  "language_info": {
   "codemirror_mode": {
    "name": "ipython",
    "version": 3
   },
   "file_extension": ".py",
   "mimetype": "text/x-python",
   "name": "python",
   "nbconvert_exporter": "python",
   "pygments_lexer": "ipython3",
   "version": "3.9.13"
  },
  "vscode": {
   "interpreter": {
    "hash": "d2fbc26868bfd0ad4a8fad7acadd74e0892fd8dd123ba3e5c1c2a48216900e05"
   }
  }
 },
 "nbformat": 4,
 "nbformat_minor": 2
}
